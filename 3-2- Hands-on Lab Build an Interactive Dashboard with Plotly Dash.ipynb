{
 "cells": [
  {
   "cell_type": "code",
   "execution_count": 1,
   "id": "8f773735-da5b-4127-86ae-a21de6f96a95",
   "metadata": {},
   "outputs": [],
   "source": [
    "#pip install dash"
   ]
  },
  {
   "cell_type": "code",
   "execution_count": 7,
   "id": "ff99b079-4f6d-43a2-8ff9-3cf1fe6c4b41",
   "metadata": {},
   "outputs": [
    {
     "data": {
      "text/html": [
       "\n",
       "        <iframe\n",
       "            width=\"100%\"\n",
       "            height=\"650\"\n",
       "            src=\"http://127.0.0.1:8080/\"\n",
       "            frameborder=\"0\"\n",
       "            allowfullscreen\n",
       "            \n",
       "        ></iframe>\n",
       "        "
      ],
      "text/plain": [
       "<IPython.lib.display.IFrame at 0x230f2e711f0>"
      ]
     },
     "metadata": {},
     "output_type": "display_data"
    }
   ],
   "source": [
    "# Import required libraries\n",
    "import pandas as pd\n",
    "import dash\n",
    "from dash import html, dcc, Input, Output\n",
    "import plotly.express as px\n",
    "\n",
    "# Read the airline data into pandas dataframe\n",
    "spacex_df = pd.read_csv(\"G:/programming/IBM/IBM - Google Data Analytics Professional Certificate/questions/10 Applied Data Science Capstone/Done/3/spacex_launch_dash.csv\")\n",
    "max_payload = spacex_df['Payload Mass (kg)'].max()\n",
    "min_payload = spacex_df['Payload Mass (kg)'].min()\n",
    "\n",
    "# Create a dash application\n",
    "app = dash.Dash(__name__)\n",
    "\n",
    "# Create dropdown options\n",
    "launch_sites = [{'label': 'All Sites', 'value': 'All Sites'}]\n",
    "for site in spacex_df[\"Launch Site\"].unique():\n",
    "    launch_sites.append({'label': site, 'value': site})\n",
    "\n",
    "# App layout\n",
    "app.layout = html.Div(children=[\n",
    "    html.H1('SpaceX Launch Records Dashboard',\n",
    "            style={'textAlign': 'center', 'color': '#503D36', 'font-size': 40}),\n",
    "    \n",
    "    dcc.Dropdown(id='site-dropdown',\n",
    "                 options=launch_sites,\n",
    "                 value='All Sites',\n",
    "                 placeholder=\"Select a Launch Site here\",\n",
    "                 searchable=True),\n",
    "    html.Br(),\n",
    "\n",
    "    html.Div(dcc.Graph(id='success-pie-chart')),\n",
    "    html.Br(),\n",
    "\n",
    "    html.P(\"Payload range (Kg):\"),\n",
    "\n",
    "    dcc.RangeSlider(id='payload-slider',\n",
    "                    min=0,\n",
    "                    max=10000,\n",
    "                    step=1000,\n",
    "                    value=[min_payload, max_payload],\n",
    "                    marks={2500: '2500', 5000: '5000', 7500: '7500'}),\n",
    "\n",
    "    html.Div(dcc.Graph(id='success-payload-scatter-chart')),\n",
    "])\n",
    "\n",
    "# TASK 2: Pie chart callback\n",
    "@app.callback(\n",
    "    Output(component_id='success-pie-chart', component_property='figure'),\n",
    "    Input(component_id='site-dropdown', component_property='value')\n",
    ")\n",
    "def select(inputt):\n",
    "    if inputt == 'All Sites':\n",
    "        new_df = spacex_df.groupby(['Launch Site'])[\"class\"].sum().reset_index()\n",
    "        fig = px.pie(new_df, values='class', names='Launch Site',\n",
    "                     title='Total Success Launches by Site')\n",
    "    else:\n",
    "        site_df = spacex_df[spacex_df[\"Launch Site\"] == inputt]\n",
    "        counts = site_df['class'].value_counts().reset_index()\n",
    "        counts.columns = ['class_result', 'count']\n",
    "        counts['name'] = counts['class_result'].map({1: 'Success', 0: 'Failure'})\n",
    "        fig = px.pie(counts, values='count', names='name',\n",
    "                     title=f'Total Success vs. Failure for {inputt}')\n",
    "    return fig\n",
    "\n",
    "# TASK 4: Scatter chart callback\n",
    "@app.callback(\n",
    "    Output(component_id='success-payload-scatter-chart', component_property='figure'),\n",
    "    Input(component_id='site-dropdown', component_property='value'),\n",
    "    Input(component_id='payload-slider', component_property='value')\n",
    ")\n",
    "def scatter(input1, input2):\n",
    "    low, high = input2\n",
    "    if input1 == 'All Sites':\n",
    "        filtered_df = spacex_df[(spacex_df[\"Payload Mass (kg)\"] >= low) &\n",
    "                                (spacex_df[\"Payload Mass (kg)\"] <= high)]\n",
    "    else:\n",
    "        filtered_df = spacex_df[(spacex_df[\"Launch Site\"] == input1) &\n",
    "                                (spacex_df[\"Payload Mass (kg)\"] >= low) &\n",
    "                                (spacex_df[\"Payload Mass (kg)\"] <= high)]\n",
    "    \n",
    "    fig2 = px.scatter(filtered_df, x=\"Payload Mass (kg)\", y=\"class\",\n",
    "                      color=\"Booster Version Category\",\n",
    "                      title='Correlation between Payload and Success')\n",
    "    return fig2\n",
    "\n",
    "# Run the app\n",
    "if __name__ == '__main__':\n",
    "    app.run(port=8080)\n"
   ]
  },
  {
   "cell_type": "code",
   "execution_count": null,
   "id": "f1a5b758-a8f7-4fd1-a685-904f27d6ffce",
   "metadata": {},
   "outputs": [],
   "source": []
  }
 ],
 "metadata": {
  "kernelspec": {
   "display_name": "Python [conda env:base] *",
   "language": "python",
   "name": "conda-base-py"
  },
  "language_info": {
   "codemirror_mode": {
    "name": "ipython",
    "version": 3
   },
   "file_extension": ".py",
   "mimetype": "text/x-python",
   "name": "python",
   "nbconvert_exporter": "python",
   "pygments_lexer": "ipython3",
   "version": "3.12.7"
  }
 },
 "nbformat": 4,
 "nbformat_minor": 5
}
