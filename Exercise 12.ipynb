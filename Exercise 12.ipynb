{
 "cells": [
  {
   "cell_type": "markdown",
   "id": "84244e48-9682-4cbc-a16d-0aa8bc8fd758",
   "metadata": {},
   "source": [
    "# Data Science Tools and Ecosystem\n"
   ]
  },
  {
   "cell_type": "markdown",
   "id": "06f1cc0f-1d88-47cb-b910-8172c90d35a6",
   "metadata": {},
   "source": [
    "In this notebook, Data Science Tools and Ecosystem are summarized."
   ]
  },
  {
   "cell_type": "markdown",
   "id": "9b012be3-4277-440c-a1bd-c2b2f3fd966c",
   "metadata": {},
   "source": [
    "Some of the popular languages that Data Scientists use are:\n",
    "\n",
    "1. Python\n",
    "2. R\n",
    "3. SQL\n",
    "4. Julia"
   ]
  },
  {
   "cell_type": "markdown",
   "id": "a8823f39-f7c0-4843-9e47-f0d7bcde82d0",
   "metadata": {},
   "source": [
    "Some of the commonly used libraries used by Data Scientists include:\n",
    "\n",
    "1. NumPy\n",
    "2. Pandas\n",
    "3. Matplotlib\n",
    "4. Seaborn\n"
   ]
  },
  {
   "cell_type": "markdown",
   "id": "fdc8a200-e569-48c8-9d7a-7179a08e3c74",
   "metadata": {},
   "source": [
    "### Below are a few examples of evaluating arithmetic expressions in Python.\n",
    "\n",
    "1. `3 + 5` ➝ Addition\n",
    "2. `10 - 4` ➝ Subtraction\n",
    "3. `6 * 7` ➝ Multiplication\n",
    "4. `8 / 2` ➝ Division\n"
   ]
  },
  {
   "cell_type": "code",
   "execution_count": 7,
   "id": "a45a9d38-4a23-4ee5-98ac-35a995b3fe16",
   "metadata": {},
   "outputs": [
    {
     "name": "stdout",
     "output_type": "stream",
     "text": [
      "17\n"
     ]
    }
   ],
   "source": [
    "# This is a simple arithmetic expression to multiply then add integers.\n",
    "result = (3 * 4) + 5\n",
    "print(result)\n"
   ]
  },
  {
   "cell_type": "code",
   "execution_count": 9,
   "id": "dc773f25-3e60-4bdc-804d-7255d7274811",
   "metadata": {},
   "outputs": [
    {
     "name": "stdout",
     "output_type": "stream",
     "text": [
      "3.3333333333333335\n"
     ]
    }
   ],
   "source": [
    "# This will convert 200 minutes to hours by dividing by 60.\n",
    "minutes = 200\n",
    "hours = minutes / 60\n",
    "print(hours)\n"
   ]
  },
  {
   "cell_type": "markdown",
   "id": "87bd5f1b-b84b-41aa-a293-6d23e51c0a32",
   "metadata": {},
   "source": [
    "**Objectives:**\n",
    "- List popular languages for Data Science\n",
    "- List common libraries used in Data Science\n",
    "- Convert minutes to hours using Python\n",
    "- List popular tools used in Data Science\n"
   ]
  },
  {
   "cell_type": "markdown",
   "id": "4383f659-0cc8-49e3-83ff-304430d2db37",
   "metadata": {},
   "source": [
    "## Author\n",
    "Ali Mirzaei\n"
   ]
  },
  {
   "cell_type": "code",
   "execution_count": null,
   "id": "90df3080-e3e6-4928-a765-afb7857c8d8c",
   "metadata": {},
   "outputs": [],
   "source": []
  }
 ],
 "metadata": {
  "kernelspec": {
   "display_name": "Python [conda env:base] *",
   "language": "python",
   "name": "conda-base-py"
  },
  "language_info": {
   "codemirror_mode": {
    "name": "ipython",
    "version": 3
   },
   "file_extension": ".py",
   "mimetype": "text/x-python",
   "name": "python",
   "nbconvert_exporter": "python",
   "pygments_lexer": "ipython3",
   "version": "3.12.7"
  }
 },
 "nbformat": 4,
 "nbformat_minor": 5
}
